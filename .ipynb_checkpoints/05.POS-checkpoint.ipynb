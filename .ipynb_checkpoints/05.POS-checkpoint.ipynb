{
 "cells": [
  {
   "cell_type": "code",
   "execution_count": 5,
   "id": "09cdbd50-ed4d-4fc9-be8d-8a34250dffb5",
   "metadata": {},
   "outputs": [],
   "source": [
    "import spacy"
   ]
  },
  {
   "cell_type": "markdown",
   "id": "a07df82d-1d2f-432b-959a-2f3ed2f242e0",
   "metadata": {},
   "source": [
    "spacy.load('en_core_web_sm') → loads a pre-trained small English pipeline that comes with:\n",
    "\n",
    "Tokenization (splitting text into words/sentences)\n",
    "\n",
    "Part-of-Speech (POS) tagging\n",
    "\n",
    "Lemmatization (base form of words)\n",
    "\n",
    "Named Entity Recognition (NER)\n",
    "\n",
    "Dependency parsing\n",
    "\n",
    "nlp → is now your language model object. You can pass text into it, and it will return a processed Doc object."
   ]
  },
  {
   "cell_type": "code",
   "execution_count": 12,
   "id": "d7e80fc0-dae9-46ed-96d6-01b83644baaf",
   "metadata": {},
   "outputs": [],
   "source": [
    "nlp = spacy.load('en_core_web_sm')"
   ]
  },
  {
   "cell_type": "raw",
   "id": "7347cd90-6e9c-4944-9e92-371864183411",
   "metadata": {},
   "source": []
  },
  {
   "cell_type": "code",
   "execution_count": 15,
   "id": "d801c2a0-ec71-4f2e-8acc-aabc79d1f456",
   "metadata": {},
   "outputs": [],
   "source": [
    "doc=nlp(u\"I will google about facebook\")"
   ]
  },
  {
   "cell_type": "code",
   "execution_count": 17,
   "id": "82d7104c-0193-4847-9423-5f71f64f8b9c",
   "metadata": {},
   "outputs": [
    {
     "data": {
      "text/plain": [
       "'I will google about facebook'"
      ]
     },
     "execution_count": 17,
     "metadata": {},
     "output_type": "execute_result"
    }
   ],
   "source": [
    "doc.text"
   ]
  },
  {
   "cell_type": "code",
   "execution_count": 19,
   "id": "0f0e20cc-a77f-4b4b-b1ad-a9638fe3defc",
   "metadata": {},
   "outputs": [
    {
     "data": {
      "text/plain": [
       "google"
      ]
     },
     "execution_count": 19,
     "metadata": {},
     "output_type": "execute_result"
    }
   ],
   "source": [
    "doc[2]"
   ]
  },
  {
   "cell_type": "markdown",
   "id": "5a5637f0-7a46-4cf5-95a5-dd3ff3f56bf7",
   "metadata": {},
   "source": [
    "token.pos_ (Coarse POS)\n",
    "\n",
    "This is the Universal POS tag (UPOS), based on a small, general set of categories (about 17 total).\n",
    "\n",
    "Examples: NOUN, VERB, ADJ, PROPN, ADV, DET, ADP, AUX\n",
    "\n",
    "👉 Used when you just want broad grammatical info (noun/verb/adjective etc.)."
   ]
  },
  {
   "cell_type": "code",
   "execution_count": 21,
   "id": "5a7f1862-f2cb-4ec5-acdc-5cde9bd48229",
   "metadata": {},
   "outputs": [
    {
     "data": {
      "text/plain": [
       "'VERB'"
      ]
     },
     "execution_count": 21,
     "metadata": {},
     "output_type": "execute_result"
    }
   ],
   "source": [
    "doc[2].pos_   "
   ]
  },
  {
   "cell_type": "markdown",
   "id": "e4dace39-7c64-42ea-a6c1-df6dc3c0acd6",
   "metadata": {},
   "source": [
    "token.tag_ (Fine-grained POS Tag)\n",
    "\n",
    "This is the language-specific POS tag (Penn Treebank for English).\n",
    "\n",
    "More detailed than pos_, including tense, number, case, etc.\n",
    "\n",
    "Examples:\n",
    "\n",
    "NN → singular noun\n",
    "\n",
    "NNS → plural noun\n",
    "\n",
    "VBD → past tense verb\n",
    "\n",
    "VBG → verb gerund\n",
    "\n",
    "JJ → adjective\n",
    "\n",
    "RB → adverb\n",
    "\n",
    "👉 Useful when you need precise grammatical details (e.g., distinguishing run as past tense vs present participle)."
   ]
  },
  {
   "cell_type": "code",
   "execution_count": 25,
   "id": "e251d3dc-fb76-4190-b5a2-f76d80e4eed9",
   "metadata": {},
   "outputs": [
    {
     "data": {
      "text/plain": [
       "'VB'"
      ]
     },
     "execution_count": 25,
     "metadata": {},
     "output_type": "execute_result"
    }
   ],
   "source": [
    "doc[2].tag_"
   ]
  },
  {
   "cell_type": "code",
   "execution_count": 27,
   "id": "b49c6540-0d92-40b4-acf5-d5da0ab8120c",
   "metadata": {},
   "outputs": [
    {
     "data": {
      "text/plain": [
       "'verb, base form'"
      ]
     },
     "execution_count": 27,
     "metadata": {},
     "output_type": "execute_result"
    }
   ],
   "source": [
    "spacy.explain(\"VB\")"
   ]
  },
  {
   "cell_type": "code",
   "execution_count": null,
   "id": "f7947b9a-0228-48f0-8636-c94474515674",
   "metadata": {},
   "outputs": [],
   "source": []
  },
  {
   "cell_type": "code",
   "execution_count": 34,
   "id": "ff80713d-c155-4991-9919-b464b3b7fba1",
   "metadata": {},
   "outputs": [
    {
     "name": "stdout",
     "output_type": "stream",
     "text": [
      "I ----> PRON PRP pronoun, personal\n",
      "will ----> AUX MD verb, modal auxiliary\n",
      "google ----> VERB VB verb, base form\n",
      "about ----> ADP IN conjunction, subordinating or preposition\n",
      "facebook ----> PROPN NNP noun, proper singular\n"
     ]
    }
   ],
   "source": [
    "for word in doc:\n",
    "    print(word.text,\"---->\", word.pos_,word.tag_,spacy.explain(word.tag_))"
   ]
  },
  {
   "cell_type": "code",
   "execution_count": null,
   "id": "70ad2ddc-b89c-4c37-bbba-7a32b4558e0a",
   "metadata": {},
   "outputs": [],
   "source": []
  },
  {
   "cell_type": "code",
   "execution_count": 39,
   "id": "77c9fca3-e915-4429-bcf9-fb59fad35a9b",
   "metadata": {},
   "outputs": [
    {
     "name": "stdout",
     "output_type": "stream",
     "text": [
      "I ----> PRON PRP pronoun, personal\n",
      "left ----> VERB VBD verb, past tense\n",
      "the ----> DET DT determiner\n",
      "room ----> NOUN NN noun, singular or mass\n"
     ]
    }
   ],
   "source": [
    "doc1=nlp(u\"I left the room\")\n",
    "for word in doc1:\n",
    "    print(word.text,\"---->\", word.pos_,word.tag_,spacy.explain(word.tag_))"
   ]
  },
  {
   "cell_type": "code",
   "execution_count": null,
   "id": "80a743a5-022e-4002-a1d1-90dda979f443",
   "metadata": {},
   "outputs": [],
   "source": []
  }
 ],
 "metadata": {
  "kernelspec": {
   "display_name": "Python (gensimenv)",
   "language": "python",
   "name": "gensimenv"
  },
  "language_info": {
   "codemirror_mode": {
    "name": "ipython",
    "version": 3
   },
   "file_extension": ".py",
   "mimetype": "text/x-python",
   "name": "python",
   "nbconvert_exporter": "python",
   "pygments_lexer": "ipython3",
   "version": "3.10.18"
  }
 },
 "nbformat": 4,
 "nbformat_minor": 5
}
